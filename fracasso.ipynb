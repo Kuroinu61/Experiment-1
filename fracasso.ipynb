{
  "nbformat": 4,
  "nbformat_minor": 0,
  "metadata": {
    "colab": {
      "provenance": [],
      "authorship_tag": "ABX9TyMsTr0NOBd9ez4an29cDfgB",
      "include_colab_link": true
    },
    "kernelspec": {
      "name": "python3",
      "display_name": "Python 3"
    },
    "language_info": {
      "name": "python"
    }
  },
  "cells": [
    {
      "cell_type": "markdown",
      "metadata": {
        "id": "view-in-github",
        "colab_type": "text"
      },
      "source": [
        "<a href=\"https://colab.research.google.com/github/Kuroinu61/Experiment-1/blob/master/fracasso.ipynb\" target=\"_parent\"><img src=\"https://colab.research.google.com/assets/colab-badge.svg\" alt=\"Open In Colab\"/></a>"
      ]
    },
    {
      "cell_type": "code",
      "execution_count": null,
      "metadata": {
        "id": "OJOsar1w3l1i"
      },
      "outputs": [],
      "source": [
        "# analise exploratoratorias dos jogadores da nba de 1996 ate 2021"
      ]
    },
    {
      "cell_type": "code",
      "source": [],
      "metadata": {
        "id": "yXcnLm7_EF0V"
      },
      "execution_count": null,
      "outputs": []
    },
    {
      "cell_type": "code",
      "source": [
        "dfX = df.loc[df[\"player_name\"] == \"stephen_Curry\"]"
      ],
      "metadata": {
        "id": "ce_mLG6b9Nmc"
      },
      "execution_count": null,
      "outputs": []
    }
  ]
}